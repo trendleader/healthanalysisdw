{
 "cells": [
  {
   "cell_type": "code",
   "execution_count": 0,
   "metadata": {
    "application/vnd.databricks.v1+cell": {
     "cellMetadata": {
      "byteLimit": 2048000,
      "rowLimit": 10000
     },
     "inputWidgets": {},
     "nuid": "a627149c-6102-42c7-88cf-56bff991e0f1",
     "showTitle": false,
     "tableResultSettingsMap": {},
     "title": ""
    }
   },
   "outputs": [],
   "source": [
    "from pyspark.sql.functions import col\n",
    "\n",
    "claims_df = spark.table(\"workspace.default.claims\")\n",
    "payors_df = spark.table(\"workspace.default.payors\")\n",
    "result_df = claims_df.join(\n",
    "    payors_df,\n",
    "    claims_df.member_id == payors_df.member_id,\n",
    "    \"inner\"\n",
    ").select(\n",
    "    \"claim_id\",\n",
    "    \"PROVIDERID\",\n",
    "    \"payor_type\",\n",
    "    \"paid_amount\"\n",
    ").where(\n",
    "    \"paid_amount > 0\"\n",
    ").distinct().orderBy(\n",
    "    col(\"paid_amount\").desc()\n",
    ").limit(5)\n",
    "display(result_df)"
   ]
  }
 ],
 "metadata": {
  "application/vnd.databricks.v1+notebook": {
   "computePreferences": null,
   "dashboards": [],
   "environmentMetadata": {
    "base_environment": "",
    "environment_version": "2"
   },
   "inputWidgetPreferences": null,
   "language": "python",
   "notebookMetadata": {
    "pythonIndentUnit": 4
   },
   "notebookName": "Payors",
   "widgets": {}
  },
  "language_info": {
   "name": "python"
  }
 },
 "nbformat": 4,
 "nbformat_minor": 0
}
