{
 "cells": [
  {
   "cell_type": "markdown",
   "metadata": {
    "application/vnd.databricks.v1+cell": {
     "cellMetadata": {},
     "inputWidgets": {},
     "nuid": "24260ae4-d1d1-4eb1-af72-4ab00100c02f",
     "showTitle": false,
     "tableResultSettingsMap": {},
     "title": ""
    }
   },
   "source": [
    "### ClaimsView\n"
   ]
  },
  {
   "cell_type": "code",
   "execution_count": 0,
   "metadata": {
    "application/vnd.databricks.v1+cell": {
     "cellMetadata": {
      "byteLimit": 2048000,
      "rowLimit": 10000
     },
     "inputWidgets": {},
     "nuid": "2a9f2785-39ba-4377-b9dd-d19769d957ea",
     "showTitle": false,
     "tableResultSettingsMap": {},
     "title": ""
    }
   },
   "outputs": [],
   "source": [
    "df = spark.table(\"workspace.default.claims\") \\\n",
    "    .filter(\"paid_amount > 0\") \\\n",
    "    .select(\"claim_id\", \"ProviderID\", \"billed_amount\", \"paid_amount\") \\\n",
    "    .limit(5)\n",
    "display(df)"
   ]
  },
  {
   "cell_type": "code",
   "execution_count": 0,
   "metadata": {
    "application/vnd.databricks.v1+cell": {
     "cellMetadata": {
      "byteLimit": 2048000,
      "implicitDf": true,
      "rowLimit": 10000
     },
     "inputWidgets": {},
     "nuid": "9bc82fd6-5838-4e00-869c-5dd24ce13743",
     "showTitle": false,
     "tableResultSettingsMap": {},
     "title": ""
    }
   },
   "outputs": [],
   "source": [
    "%sql\n",
    "UPDATE default.providers\n",
    "SET specialty = 'Internal Medicine'\n",
    "WHERE provider_id = 'PR0004';\n",
    "\n",
    "-- You can also update multiple columns\n",
    "UPDATE default.providers\n",
    "SET specialty = 'Dermatology',\n",
    "    practice_location = 'Skin Care Center'\n",
    "WHERE provider_id = 'PR0001';"
   ]
  },
  {
   "cell_type": "code",
   "execution_count": 0,
   "metadata": {
    "application/vnd.databricks.v1+cell": {
     "cellMetadata": {
      "byteLimit": 2048000,
      "implicitDf": true,
      "rowLimit": 10000
     },
     "inputWidgets": {},
     "nuid": "9f85c667-7dd9-4b4b-a0e6-5f495c22ea1b",
     "showTitle": false,
     "tableResultSettingsMap": {},
     "title": ""
    }
   },
   "outputs": [],
   "source": [
    "%sql\n",
    "---DELTA provider column data type---\n",
    "DESCRIBE EXTENDED default.providers;"
   ]
  },
  {
   "cell_type": "code",
   "execution_count": 0,
   "metadata": {
    "application/vnd.databricks.v1+cell": {
     "cellMetadata": {
      "byteLimit": 2048000,
      "rowLimit": 10000
     },
     "inputWidgets": {},
     "nuid": "67ccf5a5-a191-4a8d-a376-e4c8d5864f04",
     "showTitle": false,
     "tableResultSettingsMap": {},
     "title": ""
    }
   },
   "outputs": [],
   "source": [
    "# This approach works regardless of table format\n",
    "from pyspark.sql.functions import *\n",
    "\n",
    "# Read the table\n",
    "providers_df = spark.table(\"default.providers\")\n",
    "\n",
    "# Apply the updates\n",
    "updated_providers = providers_df.withColumn(\n",
    "    \"specialty\",\n",
    "    when(col(\"provider_id\") == \"PR0006\", \"Cardiology\")\n",
    "    .when(col(\"provider_id\") == \"PR0007\", \"Radiology\")\n",
    "    .otherwise(col(\"specialty\"))\n",
    ")\n",
    "\n",
    "# Save back to table\n",
    "updated_providers.write.mode(\"overwrite\").saveAsTable(\"default.providers\")"
   ]
  },
  {
   "cell_type": "code",
   "execution_count": 0,
   "metadata": {
    "application/vnd.databricks.v1+cell": {
     "cellMetadata": {
      "byteLimit": 2048000,
      "implicitDf": true,
      "rowLimit": 10000
     },
     "inputWidgets": {},
     "nuid": "f21adb59-0618-42fc-9db9-65a8b97453bc",
     "showTitle": false,
     "tableResultSettingsMap": {},
     "title": ""
    }
   },
   "outputs": [],
   "source": [
    "from pyspark.sql.functions import col\n",
    "\n",
    "display(spark.table(\"default.providers\").filter(col(\"provider_id\").isin(\"PR0006\", \"PR0007\")))"
   ]
  }
 ],
 "metadata": {
  "application/vnd.databricks.v1+notebook": {
   "computePreferences": null,
   "dashboards": [],
   "environmentMetadata": {
    "base_environment": "",
    "environment_version": "2"
   },
   "inputWidgetPreferences": null,
   "language": "python",
   "notebookMetadata": {
    "mostRecentlyExecutedCommandWithImplicitDF": {
     "commandId": -1,
     "dataframes": [
      "_sqldf"
     ]
    },
    "pythonIndentUnit": 4
   },
   "notebookName": "ClaimsSnapshot",
   "widgets": {}
  },
  "language_info": {
   "name": "python"
  }
 },
 "nbformat": 4,
 "nbformat_minor": 0
}
